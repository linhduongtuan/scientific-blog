{
 "cells": [
  {
   "cell_type": "markdown",
   "id": "1e86db1c",
   "metadata": {},
   "source": [
    "# Medical Research Platform 🔬\n",
    "\n",
    "## Comprehensive Medical Image Viewer & Research Data Portal\n",
    "\n",
    "This notebook demonstrates a complete medical research platform with:\n",
    "\n",
    "### 🩺 Medical Image Viewer Features:\n",
    "- **DICOM file support** - Load and process medical imaging data\n",
    "- **Annotation tools** - Interactive image marking and measurement\n",
    "- **Comparison features** - Side-by-side image analysis\n",
    "\n",
    "### 📊 Research Data Portal:\n",
    "- **Dataset sharing** - Collaborative data management\n",
    "- **Reproducible research tools** - Environment and code versioning\n",
    "- **Version control for data** - Track dataset changes and provenance\n",
    "\n",
    "### 📝 Lab Notes Integration:\n",
    "- **Digital lab notebook** - Structured experiment documentation\n",
    "- **Experiment tracking** - Parameter logging and result monitoring\n",
    "- **Protocol sharing** - Standardized experimental procedures\n",
    "\n",
    "**Author:** Linh Duong Tuan  \n",
    "**Date:** June 25, 2025  \n",
    "**Focus:** Medical Microbiology & AI for Medical Imaging"
   ]
  },
  {
   "cell_type": "markdown",
   "id": "f5d47f1a",
   "metadata": {},
   "source": [
    "## 1. Import Required Libraries\n",
    "\n",
    "Setting up the environment for medical image processing, DICOM handling, and research tools."
   ]
  },
  {
   "cell_type": "code",
   "execution_count": null,
   "id": "52e22af3",
   "metadata": {},
   "outputs": [],
   "source": [
    "# Core scientific computing libraries\n",
    "import numpy as np\n",
    "import pandas as pd\n",
    "import matplotlib.pyplot as plt\n",
    "import matplotlib.patches as patches\n",
    "from matplotlib.widgets import RectangleSelector\n",
    "import seaborn as sns\n",
    "\n",
    "# Medical imaging libraries\n",
    "try:\n",
    "    import pydicom\n",
    "    import nibabel as nib  # For NIfTI files\n",
    "    from PIL import Image, ImageDraw, ImageFont\n",
    "    print(\"✅ Medical imaging libraries loaded successfully\")\n",
    "except ImportError as e:\n",
    "    print(f\"⚠️ Medical imaging libraries not found: {e}\")\n",
    "    print(\"Install with: pip install pydicom nibabel pillow\")\n",
    "\n",
    "# Interactive plotting\n",
    "import plotly.graph_objects as go\n",
    "import plotly.express as px\n",
    "from plotly.subplots import make_subplots\n",
    "import plotly.io as pio\n",
    "\n",
    "# Data management and versioning\n",
    "import hashlib\n",
    "import json\n",
    "import os\n",
    "import datetime\n",
    "from pathlib import Path\n",
    "import sqlite3\n",
    "\n",
    "# Image processing\n",
    "import cv2\n",
    "import skimage\n",
    "from skimage import filters, measure, segmentation\n",
    "from skimage.restoration import denoise_nl_means\n",
    "\n",
    "# Web interface components (for React integration)\n",
    "import base64\n",
    "from io import BytesIO\n",
    "\n",
    "# Set plotting style\n",
    "plt.style.use('seaborn-v0_8-whitegrid')\n",
    "sns.set_palette(\"husl\")\n",
    "\n",
    "print(\"🔬 Medical Research Platform initialized successfully!\")\n",
    "print(f\"📅 Session started: {datetime.datetime.now().strftime('%Y-%m-%d %H:%M:%S')}\")"
   ]
  }
 ],
 "metadata": {
  "language_info": {
   "name": "python"
  }
 },
 "nbformat": 4,
 "nbformat_minor": 5
}
